{
 "cells": [
  {
   "cell_type": "code",
   "execution_count": 1,
   "id": "e2300091",
   "metadata": {},
   "outputs": [],
   "source": [
    "%run import_libs.py"
   ]
  },
  {
   "cell_type": "markdown",
   "id": "efae5a30",
   "metadata": {},
   "source": [
    "### get data"
   ]
  },
  {
   "cell_type": "code",
   "execution_count": null,
   "id": "b6c50fa6",
   "metadata": {},
   "outputs": [
    {
     "name": "stdout",
     "output_type": "stream",
     "text": [
      "(458913, 151)\n",
      "(458913, 151)\n",
      "(458913, 151)\n",
      "(458913, 162)\n",
      "(458913, 616)\n"
     ]
    }
   ],
   "source": [
    "df_train = get_train_data(TRAIN_PATH='./data/train.parquet')\n",
    "num_features = pd.read_csv(\"num_feats_after_filtering.csv\")[\"0\"].to_list()\n",
    "\n",
    "df_train_agg = get_df_w_aggrs(df=df_train, feats=num_features)\n",
    "df_train_target = get_target(TARGET_PATH='./data/train_labels.csv')\n",
    "df_train = get_train_data_with_target_merged(df_train=df_train_agg, df_train_target=df_train_target)"
   ]
  },
  {
   "cell_type": "code",
   "execution_count": 13,
   "id": "36a42bfc",
   "metadata": {},
   "outputs": [
    {
     "name": "stdout",
     "output_type": "stream",
     "text": [
      "(924621, 151)\n",
      "(924621, 151)\n",
      "(924621, 151)\n",
      "(924621, 162)\n",
      "(924621, 616)\n"
     ]
    }
   ],
   "source": [
    "df_test = get_test_data(TEST_PATH='./data/test.parquet')\n",
    "df_test = get_df_w_aggrs(df=df_test, feats=num_features)"
   ]
  },
  {
   "cell_type": "code",
   "execution_count": 4,
   "id": "7cc3fc5f",
   "metadata": {},
   "outputs": [
    {
     "data": {
      "text/html": [
       "<div>\n",
       "<style scoped>\n",
       "    .dataframe tbody tr th:only-of-type {\n",
       "        vertical-align: middle;\n",
       "    }\n",
       "\n",
       "    .dataframe tbody tr th {\n",
       "        vertical-align: top;\n",
       "    }\n",
       "\n",
       "    .dataframe thead th {\n",
       "        text-align: right;\n",
       "    }\n",
       "</style>\n",
       "<table border=\"1\" class=\"dataframe\">\n",
       "  <thead>\n",
       "    <tr style=\"text-align: right;\">\n",
       "      <th></th>\n",
       "      <th>customer_ID</th>\n",
       "      <th>P_2_min</th>\n",
       "      <th>P_3_min</th>\n",
       "      <th>P_4_min</th>\n",
       "      <th>D_39_min</th>\n",
       "      <th>D_41_min</th>\n",
       "      <th>D_42_min</th>\n",
       "      <th>D_43_min</th>\n",
       "      <th>D_44_min</th>\n",
       "      <th>D_45_min</th>\n",
       "      <th>...</th>\n",
       "      <th>D_114_last</th>\n",
       "      <th>D_116_last</th>\n",
       "      <th>D_117_last</th>\n",
       "      <th>D_120_last</th>\n",
       "      <th>D_126_last</th>\n",
       "      <th>D_63_last</th>\n",
       "      <th>D_64_last</th>\n",
       "      <th>D_66_last</th>\n",
       "      <th>D_68_last</th>\n",
       "      <th>target</th>\n",
       "    </tr>\n",
       "  </thead>\n",
       "  <tbody>\n",
       "    <tr>\n",
       "      <th>0</th>\n",
       "      <td>0000099d6bd597052cdcda90ffabf56573fe9d7c79be5f...</td>\n",
       "      <td>0.868580</td>\n",
       "      <td>0.581678</td>\n",
       "      <td>0.0</td>\n",
       "      <td>0</td>\n",
       "      <td>0.0</td>\n",
       "      <td>NaN</td>\n",
       "      <td>NaN</td>\n",
       "      <td>0</td>\n",
       "      <td>0.708906</td>\n",
       "      <td>...</td>\n",
       "      <td>1</td>\n",
       "      <td>0</td>\n",
       "      <td>5</td>\n",
       "      <td>0</td>\n",
       "      <td>2</td>\n",
       "      <td>0</td>\n",
       "      <td>0</td>\n",
       "      <td>-1</td>\n",
       "      <td>6</td>\n",
       "      <td>0</td>\n",
       "    </tr>\n",
       "    <tr>\n",
       "      <th>1</th>\n",
       "      <td>00000fd6641609c6ece5454664794f0340ad84dddce9a2...</td>\n",
       "      <td>0.861109</td>\n",
       "      <td>0.510142</td>\n",
       "      <td>0.0</td>\n",
       "      <td>0</td>\n",
       "      <td>0.0</td>\n",
       "      <td>NaN</td>\n",
       "      <td>0.060646</td>\n",
       "      <td>0</td>\n",
       "      <td>0.239459</td>\n",
       "      <td>...</td>\n",
       "      <td>1</td>\n",
       "      <td>0</td>\n",
       "      <td>0</td>\n",
       "      <td>0</td>\n",
       "      <td>2</td>\n",
       "      <td>3</td>\n",
       "      <td>0</td>\n",
       "      <td>-1</td>\n",
       "      <td>6</td>\n",
       "      <td>0</td>\n",
       "    </tr>\n",
       "    <tr>\n",
       "      <th>2</th>\n",
       "      <td>00001b22f846c82c51f6e3958ccd81970162bae8b007e8...</td>\n",
       "      <td>0.797670</td>\n",
       "      <td>0.381123</td>\n",
       "      <td>0.0</td>\n",
       "      <td>0</td>\n",
       "      <td>0.0</td>\n",
       "      <td>NaN</td>\n",
       "      <td>NaN</td>\n",
       "      <td>0</td>\n",
       "      <td>0.222406</td>\n",
       "      <td>...</td>\n",
       "      <td>1</td>\n",
       "      <td>0</td>\n",
       "      <td>0</td>\n",
       "      <td>0</td>\n",
       "      <td>2</td>\n",
       "      <td>3</td>\n",
       "      <td>2</td>\n",
       "      <td>-1</td>\n",
       "      <td>6</td>\n",
       "      <td>0</td>\n",
       "    </tr>\n",
       "  </tbody>\n",
       "</table>\n",
       "<p>3 rows × 617 columns</p>\n",
       "</div>"
      ],
      "text/plain": [
       "                                         customer_ID   P_2_min   P_3_min  \\\n",
       "0  0000099d6bd597052cdcda90ffabf56573fe9d7c79be5f...  0.868580  0.581678   \n",
       "1  00000fd6641609c6ece5454664794f0340ad84dddce9a2...  0.861109  0.510142   \n",
       "2  00001b22f846c82c51f6e3958ccd81970162bae8b007e8...  0.797670  0.381123   \n",
       "\n",
       "   P_4_min  D_39_min  D_41_min  D_42_min  D_43_min  D_44_min  D_45_min  ...  \\\n",
       "0      0.0         0       0.0       NaN       NaN         0  0.708906  ...   \n",
       "1      0.0         0       0.0       NaN  0.060646         0  0.239459  ...   \n",
       "2      0.0         0       0.0       NaN       NaN         0  0.222406  ...   \n",
       "\n",
       "   D_114_last  D_116_last  D_117_last  D_120_last  D_126_last  D_63_last  \\\n",
       "0           1           0           5           0           2          0   \n",
       "1           1           0           0           0           2          3   \n",
       "2           1           0           0           0           2          3   \n",
       "\n",
       "   D_64_last  D_66_last  D_68_last  target  \n",
       "0          0         -1          6       0  \n",
       "1          0         -1          6       0  \n",
       "2          2         -1          6       0  \n",
       "\n",
       "[3 rows x 617 columns]"
      ]
     },
     "execution_count": 4,
     "metadata": {},
     "output_type": "execute_result"
    }
   ],
   "source": [
    "df_train.head(3)"
   ]
  },
  {
   "cell_type": "code",
   "execution_count": 14,
   "id": "2fa44994",
   "metadata": {},
   "outputs": [
    {
     "data": {
      "text/html": [
       "<div>\n",
       "<style scoped>\n",
       "    .dataframe tbody tr th:only-of-type {\n",
       "        vertical-align: middle;\n",
       "    }\n",
       "\n",
       "    .dataframe tbody tr th {\n",
       "        vertical-align: top;\n",
       "    }\n",
       "\n",
       "    .dataframe thead th {\n",
       "        text-align: right;\n",
       "    }\n",
       "</style>\n",
       "<table border=\"1\" class=\"dataframe\">\n",
       "  <thead>\n",
       "    <tr style=\"text-align: right;\">\n",
       "      <th></th>\n",
       "      <th>customer_ID</th>\n",
       "      <th>P_2_min</th>\n",
       "      <th>P_3_min</th>\n",
       "      <th>P_4_min</th>\n",
       "      <th>D_39_min</th>\n",
       "      <th>D_41_min</th>\n",
       "      <th>D_42_min</th>\n",
       "      <th>D_43_min</th>\n",
       "      <th>D_44_min</th>\n",
       "      <th>D_45_min</th>\n",
       "      <th>...</th>\n",
       "      <th>B_38_last</th>\n",
       "      <th>D_114_last</th>\n",
       "      <th>D_116_last</th>\n",
       "      <th>D_117_last</th>\n",
       "      <th>D_120_last</th>\n",
       "      <th>D_126_last</th>\n",
       "      <th>D_63_last</th>\n",
       "      <th>D_64_last</th>\n",
       "      <th>D_66_last</th>\n",
       "      <th>D_68_last</th>\n",
       "    </tr>\n",
       "  </thead>\n",
       "  <tbody>\n",
       "    <tr>\n",
       "      <th>0</th>\n",
       "      <td>00000469ba478561f23a92a868bd366de6f6527a684c9a...</td>\n",
       "      <td>0.568930</td>\n",
       "      <td>0.535311</td>\n",
       "      <td>0.958618</td>\n",
       "      <td>0</td>\n",
       "      <td>0.0</td>\n",
       "      <td>0.103745</td>\n",
       "      <td>0.006272</td>\n",
       "      <td>0</td>\n",
       "      <td>0.004483</td>\n",
       "      <td>...</td>\n",
       "      <td>2</td>\n",
       "      <td>0</td>\n",
       "      <td>0</td>\n",
       "      <td>0</td>\n",
       "      <td>1</td>\n",
       "      <td>1</td>\n",
       "      <td>0</td>\n",
       "      <td>3</td>\n",
       "      <td>-1</td>\n",
       "      <td>6</td>\n",
       "    </tr>\n",
       "    <tr>\n",
       "      <th>1</th>\n",
       "      <td>00001bf2e77ff879fab36aa4fac689b9ba411dae63ae39...</td>\n",
       "      <td>0.794469</td>\n",
       "      <td>0.385655</td>\n",
       "      <td>0.000000</td>\n",
       "      <td>0</td>\n",
       "      <td>0.0</td>\n",
       "      <td>NaN</td>\n",
       "      <td>NaN</td>\n",
       "      <td>0</td>\n",
       "      <td>0.076225</td>\n",
       "      <td>...</td>\n",
       "      <td>2</td>\n",
       "      <td>1</td>\n",
       "      <td>0</td>\n",
       "      <td>4</td>\n",
       "      <td>0</td>\n",
       "      <td>2</td>\n",
       "      <td>3</td>\n",
       "      <td>0</td>\n",
       "      <td>-1</td>\n",
       "      <td>6</td>\n",
       "    </tr>\n",
       "    <tr>\n",
       "      <th>2</th>\n",
       "      <td>0000210045da4f81e5f122c6bde5c2a617d03eef67f82c...</td>\n",
       "      <td>0.673112</td>\n",
       "      <td>0.381666</td>\n",
       "      <td>0.000000</td>\n",
       "      <td>0</td>\n",
       "      <td>0.0</td>\n",
       "      <td>NaN</td>\n",
       "      <td>0.085228</td>\n",
       "      <td>0</td>\n",
       "      <td>0.041670</td>\n",
       "      <td>...</td>\n",
       "      <td>2</td>\n",
       "      <td>0</td>\n",
       "      <td>0</td>\n",
       "      <td>4</td>\n",
       "      <td>0</td>\n",
       "      <td>1</td>\n",
       "      <td>0</td>\n",
       "      <td>3</td>\n",
       "      <td>1</td>\n",
       "      <td>4</td>\n",
       "    </tr>\n",
       "  </tbody>\n",
       "</table>\n",
       "<p>3 rows × 616 columns</p>\n",
       "</div>"
      ],
      "text/plain": [
       "                                         customer_ID   P_2_min   P_3_min  \\\n",
       "0  00000469ba478561f23a92a868bd366de6f6527a684c9a...  0.568930  0.535311   \n",
       "1  00001bf2e77ff879fab36aa4fac689b9ba411dae63ae39...  0.794469  0.385655   \n",
       "2  0000210045da4f81e5f122c6bde5c2a617d03eef67f82c...  0.673112  0.381666   \n",
       "\n",
       "    P_4_min  D_39_min  D_41_min  D_42_min  D_43_min  D_44_min  D_45_min  ...  \\\n",
       "0  0.958618         0       0.0  0.103745  0.006272         0  0.004483  ...   \n",
       "1  0.000000         0       0.0       NaN       NaN         0  0.076225  ...   \n",
       "2  0.000000         0       0.0       NaN  0.085228         0  0.041670  ...   \n",
       "\n",
       "   B_38_last  D_114_last  D_116_last  D_117_last  D_120_last  D_126_last  \\\n",
       "0          2           0           0           0           1           1   \n",
       "1          2           1           0           4           0           2   \n",
       "2          2           0           0           4           0           1   \n",
       "\n",
       "   D_63_last  D_64_last  D_66_last  D_68_last  \n",
       "0          0          3         -1          6  \n",
       "1          3          0         -1          6  \n",
       "2          0          3          1          4  \n",
       "\n",
       "[3 rows x 616 columns]"
      ]
     },
     "execution_count": 14,
     "metadata": {},
     "output_type": "execute_result"
    }
   ],
   "source": [
    "df_test.head(3)"
   ]
  },
  {
   "cell_type": "code",
   "execution_count": 5,
   "id": "fcdd2bd0",
   "metadata": {},
   "outputs": [
    {
     "data": {
      "text/plain": [
       "['B_30_last',\n",
       " 'B_38_last',\n",
       " 'D_114_last',\n",
       " 'D_116_last',\n",
       " 'D_117_last',\n",
       " 'D_120_last',\n",
       " 'D_126_last',\n",
       " 'D_63_last',\n",
       " 'D_64_last',\n",
       " 'D_66_last',\n",
       " 'D_68_last']"
      ]
     },
     "execution_count": 5,
     "metadata": {},
     "output_type": "execute_result"
    }
   ],
   "source": [
    "cat_features = [f\"{f}_last\" for f in ['B_30', 'B_38', 'D_114', 'D_116', 'D_117', 'D_120', 'D_126', 'D_63', 'D_64', 'D_66', 'D_68']]\n",
    "cat_features"
   ]
  },
  {
   "cell_type": "code",
   "execution_count": 21,
   "id": "93a232e0",
   "metadata": {},
   "outputs": [],
   "source": [
    "payment_feats = []\n",
    "delinq_feats = []\n",
    "spend_feats = []\n",
    "balance_feats = []\n",
    "risk_feats = []\n",
    "\n",
    "for feat in list(df_train):\n",
    "    if feat in cat_features:\n",
    "        continue\n",
    "    \n",
    "    if feat[0] == 'P':\n",
    "        #print(feat)\n",
    "        payment_feats.append(feat)\n",
    "    elif feat[0] == 'D':\n",
    "        delinq_feats.append(feat)\n",
    "    elif feat[0] == 'S':\n",
    "        spend_feats.append(feat)\n",
    "    elif feat[0] == 'B':\n",
    "        balance_feats.append(feat)\n",
    "    elif feat[0] == 'R':\n",
    "        risk_feats.append(feat)"
   ]
  },
  {
   "cell_type": "code",
   "execution_count": 26,
   "id": "a2bd2588",
   "metadata": {},
   "outputs": [
    {
     "data": {
      "text/plain": [
       "604"
      ]
     },
     "execution_count": 26,
     "metadata": {},
     "output_type": "execute_result"
    }
   ],
   "source": [
    "len(payment_feats) + len(delinq_feats) + len(spend_feats) + len(balance_feats) + len(risk_feats)"
   ]
  },
  {
   "cell_type": "code",
   "execution_count": 27,
   "id": "90c77e0e",
   "metadata": {},
   "outputs": [
    {
     "data": {
      "text/plain": [
       "604"
      ]
     },
     "execution_count": 27,
     "metadata": {},
     "output_type": "execute_result"
    }
   ],
   "source": [
    "num_features = payment_feats + delinq_feats + spend_feats + balance_feats + risk_feats\n",
    "len(num_features)"
   ]
  },
  {
   "cell_type": "markdown",
   "id": "72e8e6aa",
   "metadata": {},
   "source": [
    "### LightGBM (all features)"
   ]
  },
  {
   "cell_type": "code",
   "execution_count": null,
   "id": "e6de23d1",
   "metadata": {},
   "outputs": [
    {
     "name": "stdout",
     "output_type": "stream",
     "text": [
      "Fold 0\n",
      "  Amex = 0.78540\n",
      "Fold 1\n",
      "  Amex = 0.78871\n",
      "Fold 2\n",
      "  Amex = 0.78870\n",
      "Fold 3\n",
      "  Amex = 0.78663\n",
      "Fold 4\n",
      "  Amex = 0.78985\n",
      "\n",
      "Mean CV Amex: 0.78786 ± 0.00161\n"
     ]
    }
   ],
   "source": [
    "feature_cols = num_features + cat_features\n",
    "X = df_train[feature_cols]\n",
    "y = df_train['target'].values\n",
    "groups = df_train['customer_ID'].values\n",
    "\n",
    "params = dict(\n",
    "    learning_rate   = 0.05,\n",
    "    subsample       = 0.9,\n",
    "    subsample_freq  = 1,          # без этой штуки subsample у lgbm не заработает\n",
    "    colsample_bytree= 0.8,\n",
    "    num_leaves      = 64,\n",
    "    max_depth       = 5,\n",
    "    n_estimators    = 350,\n",
    "    objective       = 'binary',\n",
    "    verbosity       = -1,\n",
    "    random_state    = 42\n",
    ")\n",
    "\n",
    "sgkf = StratifiedGroupKFold(n_splits=5, shuffle=True, random_state=42)\n",
    "fold_scores = [] # train_cv scores\n",
    "y_pred_list = [] # test scores to submit\n",
    "\n",
    "for fold, (tr_idx, va_idx) in enumerate(sgkf.split(\n",
    "        X=df_train[['customer_ID', 'target']],\n",
    "        y=y,\n",
    "        groups=groups)):\n",
    "    \n",
    "    print(f\"Fold {fold}\")\n",
    "    X_tr, X_va = X.iloc[tr_idx], X.iloc[va_idx]\n",
    "    y_tr, y_va = y[tr_idx], y[va_idx]\n",
    "    \n",
    "    model = LGBMClassifier(**params)\n",
    "    model.fit(\n",
    "        X_tr, y_tr,\n",
    "        eval_set=[(X_va, y_va)],\n",
    "        eval_metric=lgb_amex_metric,\n",
    "        categorical_feature=cat_features\n",
    "    )\n",
    "    \n",
    "    y_pred = model.predict_proba(X_va)[:, 1]\n",
    "    score = get_amex_metric_calculated(y_va, y_pred)\n",
    "    print(f\"  Amex = {score:.5f}\")\n",
    "    fold_scores.append(score)\n",
    "\n",
    "    # predict test at each fold\n",
    "    y_pred_list.append(model.predict_proba(df_test[feature_cols], raw_score=True))\n",
    "\n",
    "print(f\"\\nMean CV Amex: {np.mean(fold_scores):.5f} ± {np.std(fold_scores):.5f}\")"
   ]
  },
  {
   "cell_type": "code",
   "execution_count": 31,
   "id": "fa42453d",
   "metadata": {},
   "outputs": [
    {
     "data": {
      "text/html": [
       "<div>\n",
       "<style scoped>\n",
       "    .dataframe tbody tr th:only-of-type {\n",
       "        vertical-align: middle;\n",
       "    }\n",
       "\n",
       "    .dataframe tbody tr th {\n",
       "        vertical-align: top;\n",
       "    }\n",
       "\n",
       "    .dataframe thead th {\n",
       "        text-align: right;\n",
       "    }\n",
       "</style>\n",
       "<table border=\"1\" class=\"dataframe\">\n",
       "  <thead>\n",
       "    <tr style=\"text-align: right;\">\n",
       "      <th></th>\n",
       "      <th>customer_ID</th>\n",
       "      <th>prediction</th>\n",
       "    </tr>\n",
       "  </thead>\n",
       "  <tbody>\n",
       "    <tr>\n",
       "      <th>0</th>\n",
       "      <td>00000469ba478561f23a92a868bd366de6f6527a684c9a...</td>\n",
       "      <td>-3.112161</td>\n",
       "    </tr>\n",
       "    <tr>\n",
       "      <th>1</th>\n",
       "      <td>00001bf2e77ff879fab36aa4fac689b9ba411dae63ae39...</td>\n",
       "      <td>-6.483655</td>\n",
       "    </tr>\n",
       "    <tr>\n",
       "      <th>2</th>\n",
       "      <td>0000210045da4f81e5f122c6bde5c2a617d03eef67f82c...</td>\n",
       "      <td>-2.919210</td>\n",
       "    </tr>\n",
       "    <tr>\n",
       "      <th>3</th>\n",
       "      <td>00003b41e58ede33b8daf61ab56d9952f17c9ad1c3976c...</td>\n",
       "      <td>-0.519460</td>\n",
       "    </tr>\n",
       "    <tr>\n",
       "      <th>4</th>\n",
       "      <td>00004b22eaeeeb0ec976890c1d9bfc14fd9427e98c4ee9...</td>\n",
       "      <td>1.987848</td>\n",
       "    </tr>\n",
       "    <tr>\n",
       "      <th>...</th>\n",
       "      <td>...</td>\n",
       "      <td>...</td>\n",
       "    </tr>\n",
       "    <tr>\n",
       "      <th>924616</th>\n",
       "      <td>ffff952c631f2c911b8a2a8ca56ea6e656309a83d2f64c...</td>\n",
       "      <td>-3.867522</td>\n",
       "    </tr>\n",
       "    <tr>\n",
       "      <th>924617</th>\n",
       "      <td>ffffcf5df59e5e0bba2a5ac4578a34e2b5aa64a1546cd3...</td>\n",
       "      <td>1.531089</td>\n",
       "    </tr>\n",
       "    <tr>\n",
       "      <th>924618</th>\n",
       "      <td>ffffd61f098cc056dbd7d2a21380c4804bbfe60856f475...</td>\n",
       "      <td>0.238545</td>\n",
       "    </tr>\n",
       "    <tr>\n",
       "      <th>924619</th>\n",
       "      <td>ffffddef1fc3643ea179c93245b68dca0f36941cd83977...</td>\n",
       "      <td>-0.620260</td>\n",
       "    </tr>\n",
       "    <tr>\n",
       "      <th>924620</th>\n",
       "      <td>fffffa7cf7e453e1acc6a1426475d5cb9400859f82ff61...</td>\n",
       "      <td>-2.384875</td>\n",
       "    </tr>\n",
       "  </tbody>\n",
       "</table>\n",
       "<p>924621 rows × 2 columns</p>\n",
       "</div>"
      ],
      "text/plain": [
       "                                              customer_ID  prediction\n",
       "0       00000469ba478561f23a92a868bd366de6f6527a684c9a...   -3.112161\n",
       "1       00001bf2e77ff879fab36aa4fac689b9ba411dae63ae39...   -6.483655\n",
       "2       0000210045da4f81e5f122c6bde5c2a617d03eef67f82c...   -2.919210\n",
       "3       00003b41e58ede33b8daf61ab56d9952f17c9ad1c3976c...   -0.519460\n",
       "4       00004b22eaeeeb0ec976890c1d9bfc14fd9427e98c4ee9...    1.987848\n",
       "...                                                   ...         ...\n",
       "924616  ffff952c631f2c911b8a2a8ca56ea6e656309a83d2f64c...   -3.867522\n",
       "924617  ffffcf5df59e5e0bba2a5ac4578a34e2b5aa64a1546cd3...    1.531089\n",
       "924618  ffffd61f098cc056dbd7d2a21380c4804bbfe60856f475...    0.238545\n",
       "924619  ffffddef1fc3643ea179c93245b68dca0f36941cd83977...   -0.620260\n",
       "924620  fffffa7cf7e453e1acc6a1426475d5cb9400859f82ff61...   -2.384875\n",
       "\n",
       "[924621 rows x 2 columns]"
      ]
     },
     "metadata": {},
     "output_type": "display_data"
    }
   ],
   "source": [
    "INFERENCE = True\n",
    "\n",
    "if INFERENCE:\n",
    "    sub = pd.DataFrame({'customer_ID': df_test.customer_ID,\n",
    "                        'prediction': np.mean(y_pred_list, axis=0)})\n",
    "    sub.to_csv('submission_lgbm_all_features.csv', index=False)\n",
    "    display(sub)"
   ]
  },
  {
   "cell_type": "markdown",
   "id": "2459a38e",
   "metadata": {},
   "source": [
    "### Random Forest (all features)"
   ]
  },
  {
   "cell_type": "code",
   "execution_count": null,
   "id": "a1ad4d17",
   "metadata": {},
   "outputs": [],
   "source": []
  },
  {
   "cell_type": "code",
   "execution_count": null,
   "id": "1eb92f38",
   "metadata": {},
   "outputs": [],
   "source": []
  },
  {
   "cell_type": "code",
   "execution_count": null,
   "id": "fdde81d2",
   "metadata": {},
   "outputs": [],
   "source": []
  },
  {
   "cell_type": "markdown",
   "id": "6b0afc0c",
   "metadata": {},
   "source": [
    "### TabNet (all features)"
   ]
  },
  {
   "cell_type": "code",
   "execution_count": null,
   "id": "8ed0044f",
   "metadata": {},
   "outputs": [],
   "source": []
  },
  {
   "cell_type": "code",
   "execution_count": null,
   "id": "afc868f8",
   "metadata": {},
   "outputs": [],
   "source": []
  },
  {
   "cell_type": "code",
   "execution_count": null,
   "id": "566c9254",
   "metadata": {},
   "outputs": [],
   "source": []
  },
  {
   "cell_type": "markdown",
   "id": "96eeb62b",
   "metadata": {},
   "source": [
    "### Backward selection (lgbm)"
   ]
  },
  {
   "cell_type": "code",
   "execution_count": null,
   "id": "50294585",
   "metadata": {},
   "outputs": [],
   "source": []
  },
  {
   "cell_type": "code",
   "execution_count": null,
   "id": "28209f21",
   "metadata": {},
   "outputs": [],
   "source": []
  },
  {
   "cell_type": "code",
   "execution_count": null,
   "id": "22a4409e",
   "metadata": {},
   "outputs": [],
   "source": []
  },
  {
   "cell_type": "markdown",
   "id": "647f0642",
   "metadata": {},
   "source": [
    "### LR & WoE & binning"
   ]
  },
  {
   "cell_type": "code",
   "execution_count": null,
   "id": "30c37cba",
   "metadata": {},
   "outputs": [],
   "source": []
  },
  {
   "cell_type": "code",
   "execution_count": null,
   "id": "faa788e9",
   "metadata": {},
   "outputs": [],
   "source": []
  },
  {
   "cell_type": "code",
   "execution_count": null,
   "id": "40a0f330",
   "metadata": {},
   "outputs": [],
   "source": []
  },
  {
   "cell_type": "code",
   "execution_count": null,
   "id": "782dc316",
   "metadata": {},
   "outputs": [],
   "source": []
  }
 ],
 "metadata": {
  "kernelspec": {
   "display_name": ".venv",
   "language": "python",
   "name": "python3"
  },
  "language_info": {
   "codemirror_mode": {
    "name": "ipython",
    "version": 3
   },
   "file_extension": ".py",
   "mimetype": "text/x-python",
   "name": "python",
   "nbconvert_exporter": "python",
   "pygments_lexer": "ipython3",
   "version": "3.12.1"
  }
 },
 "nbformat": 4,
 "nbformat_minor": 5
}
