{
 "cells": [
  {
   "cell_type": "code",
   "execution_count": null,
   "id": "b73039bb",
   "metadata": {},
   "outputs": [],
   "source": [
    "%run import_libs.py"
   ]
  },
  {
   "cell_type": "markdown",
   "id": "25242305",
   "metadata": {},
   "source": [
    "### get data"
   ]
  },
  {
   "cell_type": "code",
   "execution_count": null,
   "id": "b26bac4f",
   "metadata": {},
   "outputs": [],
   "source": [
    "df_train = get_train_data(TRAIN_PATH='./data/train.parquet')\n",
    "num_features = pd.read_csv(\"num_feats_after_filtering.csv\")[\"0\"].to_list()\n",
    "\n",
    "df_train_agg = get_df_w_aggrs(df=df_train, feats=num_features)\n",
    "df_train_target = get_target(TARGET_PATH='./data/train_labels.csv')\n",
    "df_train = get_train_data_with_target_merged(df_train=df_train_agg, df_train_target=df_train_target)"
   ]
  },
  {
   "cell_type": "code",
   "execution_count": null,
   "id": "08b35bda",
   "metadata": {},
   "outputs": [],
   "source": [
    "df_test = get_test_data(TEST_PATH='./data/test.parquet')\n",
    "df_test = get_df_w_aggrs(df=df_test, feats=num_features)"
   ]
  },
  {
   "cell_type": "code",
   "execution_count": null,
   "id": "392b5047",
   "metadata": {},
   "outputs": [],
   "source": [
    "cat_features = [f\"{f}_last\" for f in ['B_30', 'B_38', 'D_114', 'D_116', 'D_117', 'D_120', 'D_126', 'D_63', 'D_64', 'D_66', 'D_68']]\n",
    "cat_features"
   ]
  },
  {
   "cell_type": "code",
   "execution_count": null,
   "id": "eff39c7e",
   "metadata": {},
   "outputs": [],
   "source": [
    "payment_feats = []\n",
    "delinq_feats = []\n",
    "spend_feats = []\n",
    "balance_feats = []\n",
    "risk_feats = []\n",
    "\n",
    "for feat in list(df_train):\n",
    "    if feat in cat_features:\n",
    "        continue\n",
    "    \n",
    "    if feat[0] == 'P':\n",
    "        #print(feat)\n",
    "        payment_feats.append(feat)\n",
    "    elif feat[0] == 'D':\n",
    "        delinq_feats.append(feat)\n",
    "    elif feat[0] == 'S':\n",
    "        spend_feats.append(feat)\n",
    "    elif feat[0] == 'B':\n",
    "        balance_feats.append(feat)\n",
    "    elif feat[0] == 'R':\n",
    "        risk_feats.append(feat)"
   ]
  },
  {
   "cell_type": "code",
   "execution_count": null,
   "id": "bc0986ef",
   "metadata": {},
   "outputs": [],
   "source": [
    "len(payment_feats) + len(delinq_feats) + len(spend_feats) + len(balance_feats) + len(risk_feats)"
   ]
  },
  {
   "cell_type": "code",
   "execution_count": null,
   "id": "767e6122",
   "metadata": {},
   "outputs": [],
   "source": [
    "num_features = payment_feats + delinq_feats + spend_feats + balance_feats + risk_feats\n",
    "len(num_features)"
   ]
  },
  {
   "cell_type": "markdown",
   "id": "845e1ae7",
   "metadata": {},
   "source": [
    "### TabNet"
   ]
  },
  {
   "cell_type": "code",
   "execution_count": 1,
   "id": "ad33e496",
   "metadata": {},
   "outputs": [
    {
     "name": "stderr",
     "output_type": "stream",
     "text": [
      "WARNING: Requirement '../input/pytorchtabnet/pytorch_tabnet-3.1.1-py3-none-any.whl' looks like a filename, but the file does not exist\n",
      "ERROR: Could not install packages due to an OSError: [Errno 2] No such file or directory: 'C:\\\\Users\\\\oobur\\\\Projects\\\\spbu_master\\\\sem4\\\\input\\\\pytorchtabnet\\\\pytorch_tabnet-3.1.1-py3-none-any.whl'\n",
      "\n",
      "\n",
      "[notice] A new release of pip is available: 25.0.1 -> 25.1.1\n",
      "[notice] To update, run: python.exe -m pip install --upgrade pip\n"
     ]
    }
   ],
   "source": [
    "!pip -q install ../input/pytorchtabnet/pytorch_tabnet-3.1.1-py3-none-any.whl"
   ]
  },
  {
   "cell_type": "code",
   "execution_count": null,
   "id": "8272d686",
   "metadata": {},
   "outputs": [],
   "source": [
    "from pytorch_tabnet.tab_model import TabNetClassifier, TabNetRegressor\n",
    "from pytorch_tabnet.metrics import Metric"
   ]
  },
  {
   "cell_type": "code",
   "execution_count": null,
   "id": "829194be",
   "metadata": {},
   "outputs": [],
   "source": [
    "clf = TabNetClassifier()  #TabNetRegressor()\n",
    "clf.fit(\n",
    "  X_train, Y_train,\n",
    "  eval_set=[(X_valid, y_valid)]\n",
    ")\n",
    "preds = clf.predict(X_test)"
   ]
  },
  {
   "cell_type": "code",
   "execution_count": null,
   "id": "1b45a9bb",
   "metadata": {},
   "outputs": [],
   "source": [
    "# пока попробуем онли на числовых, без fillna может заработает"
   ]
  },
  {
   "cell_type": "code",
   "execution_count": null,
   "id": "bb2aba3b",
   "metadata": {},
   "outputs": [],
   "source": [
    "class CFG:\n",
    "    DEBUG = False\n",
    "    model = 'tabnet'\n",
    "    N_folds = 5\n",
    "    seed = 42\n",
    "    batch_size = 512\n",
    "    max_epochs = 60"
   ]
  },
  {
   "cell_type": "code",
   "execution_count": null,
   "id": "85ba19ee",
   "metadata": {},
   "outputs": [],
   "source": []
  },
  {
   "cell_type": "code",
   "execution_count": null,
   "id": "aa4a6ee8",
   "metadata": {},
   "outputs": [],
   "source": [
    "import os\n",
    "import random\n",
    "import psutil\n",
    "\n",
    "def seed_everything(seed):\n",
    "    random.seed(seed)\n",
    "    os.environ['PYTHONHASHSEED'] = str(seed)\n",
    "    np.random.seed(seed)\n",
    "\n",
    "seed_everything(seed = CFG.seed)"
   ]
  },
  {
   "cell_type": "code",
   "execution_count": null,
   "id": "89ea73cb",
   "metadata": {},
   "outputs": [],
   "source": [
    "psutil.virtual_memory().percent"
   ]
  },
  {
   "cell_type": "code",
   "execution_count": null,
   "id": "cbcdc958",
   "metadata": {},
   "outputs": [],
   "source": [
    "# using amex metric to evaluate tabnet\n",
    "class Amex_tabnet(Metric):\n",
    "    \n",
    "  def __init__(self):\n",
    "    self._name = 'amex_tabnet'\n",
    "    self._maximize = True\n",
    "\n",
    "  def __call__(self, y_true, y_pred):\n",
    "    amex = get_amex_metric_calculated(y_true, y_pred[:, 1])\n",
    "    return max(amex, 0.)"
   ]
  },
  {
   "cell_type": "markdown",
   "id": "f4c9c04d",
   "metadata": {},
   "source": [
    "### Training"
   ]
  },
  {
   "cell_type": "code",
   "execution_count": null,
   "id": "09cb5890",
   "metadata": {},
   "outputs": [],
   "source": [
    "print('\\n ', '-'*50)\n",
    "print('\\nTraining: ', CFG.model)\n",
    "print('\\n ', '-'*50)\n",
    "\n",
    "\n",
    "print('\\nSeed: ', CFG.seed)\n",
    "print('N folds: ', CFG.N_folds)\n",
    "\n",
    "print('\\nN features: ', len(df_train.columns.values.tolist()))\n",
    "print('\\n')"
   ]
  },
  {
   "cell_type": "code",
   "execution_count": null,
   "id": "daa6fb10",
   "metadata": {},
   "outputs": [],
   "source": []
  },
  {
   "cell_type": "code",
   "execution_count": null,
   "id": "6c93a427",
   "metadata": {},
   "outputs": [],
   "source": [
    "\n",
    "\n",
    "\n",
    "\n",
    "\n",
    "\n",
    "\n",
    "# Create out of folds array\n",
    "oof_predictions = np.zeros((train.shape[0]))\n",
    "test_predictions = np.zeros(test.shape[0])\n",
    "feature_importances = pd.DataFrame()\n",
    "feature_importances[\"feature\"] = train.columns.tolist()\n",
    "stats = pd.DataFrame()\n",
    "explain_matrices = []\n",
    "masks_ =[]\n",
    "\n",
    "\n",
    "    \n",
    "kfold = StratifiedKFold(n_splits = CFG.N_folds, shuffle=True, random_state = CFG.seed)\n",
    "\n",
    "for fold, (train_idx, valid_idx) in enumerate(kfold.split(train, target)):\n",
    "\n",
    "    ## DEBUG MODE\n",
    "    if CFG.DEBUG == True:\n",
    "        if fold > 0:\n",
    "            print('\\nDEBUG mode activated: Will train only one fold...\\n')\n",
    "            break      \n",
    "\n",
    "    start = time.time()\n",
    "\n",
    "    X_train, y_train = train.loc[train_idx], target.loc[train_idx]\n",
    "    X_valid, y_valid = train.loc[valid_idx], target.loc[valid_idx]        \n",
    "        \n",
    "    model = TabNetClassifier(n_d = 32,\n",
    "                             n_a = 32,\n",
    "                             n_steps = 3,\n",
    "                             gamma = 1.3,\n",
    "                             n_independent = 2,\n",
    "                             n_shared = 2,\n",
    "                             momentum = 0.02,\n",
    "                             clip_value = None,\n",
    "                             lambda_sparse = 1e-3,\n",
    "                             optimizer_fn = torch.optim.Adam,\n",
    "                             optimizer_params = dict(lr = 1e-3, weight_decay=1e-3),\n",
    "                             scheduler_fn = torch.optim.lr_scheduler.CosineAnnealingWarmRestarts,\n",
    "                             scheduler_params = {'T_0':5,\n",
    "                                                 'eta_min':1e-4,\n",
    "                                                 'T_mult':1,\n",
    "                                                 'last_epoch':-1},\n",
    "                             mask_type = 'entmax',\n",
    "                             seed = CFG.seed)\n",
    "    \n",
    "    \n",
    "\n",
    "    ## train\n",
    "    model.fit(np.array(X_train),\n",
    "              np.array(y_train.values.ravel()),\n",
    "              eval_set = [(np.array(X_valid), np.array(y_valid.values.ravel()))],\n",
    "              max_epochs = CFG.max_epochs,\n",
    "              patience = 50,\n",
    "              batch_size = CFG.batch_size,\n",
    "              eval_metric = ['auc', 'accuracy', Amex_tabnet]) # Last metric is used for early stopping\n",
    "    \n",
    "    # Saving best model\n",
    "    saving_path_name = f\"./fold{fold}\"\n",
    "    saved_filepath = model.save_model(saving_path_name)\n",
    "    \n",
    "    # model explanability\n",
    "    explain_matrix, masks = model.explain(X_valid.values)\n",
    "    explain_matrices.append(explain_matrix)\n",
    "    masks_.append(masks[0])\n",
    "    masks_.append(masks[1])\n",
    "    \n",
    "    # Inference\n",
    "    oof_predictions[valid_idx] = model.predict_proba(X_valid.values)[:, 1]\n",
    "    \n",
    "    #if CFG\n",
    "    # logodds function\n",
    "    \n",
    "    test_predictions += model.predict_proba(test.values)[:, 1]/5\n",
    "    feature_importances[f\"importance_fold{fold}+1\"] = model.feature_importances_\n",
    "    \n",
    "    # Loss , metric tracking\n",
    "    stats[f'fold{fold+1}_train_loss'] = model.history['loss']\n",
    "    stats[f'fold{fold+1}_val_metric'] = model.history['val_0_amex_tabnet']\n",
    "\n",
    "\n",
    "    end = time.time()\n",
    "    time_delta = np.round((end - start)/60, 2)\n",
    "     \n",
    "    print(f'\\nFold {fold+1}/{CFG.N_folds} | {time_delta:.2f} min')\n",
    "\n",
    "    ### free memory\n",
    "    del X_train, y_train\n",
    "    del X_valid, y_valid\n",
    "    gc.collect()\n",
    "\n",
    "print(f'OOF score across folds: {amex_metric_numpy(target, oof_predictions.flatten())}')"
   ]
  },
  {
   "cell_type": "code",
   "execution_count": null,
   "id": "5fa63dd2",
   "metadata": {},
   "outputs": [],
   "source": []
  },
  {
   "cell_type": "code",
   "execution_count": null,
   "id": "8c8fec5e",
   "metadata": {},
   "outputs": [],
   "source": []
  },
  {
   "cell_type": "code",
   "execution_count": null,
   "id": "b25ef3f1",
   "metadata": {},
   "outputs": [],
   "source": []
  },
  {
   "cell_type": "code",
   "execution_count": null,
   "id": "e143ea37",
   "metadata": {},
   "outputs": [],
   "source": []
  },
  {
   "cell_type": "code",
   "execution_count": null,
   "id": "a2485213",
   "metadata": {},
   "outputs": [],
   "source": []
  },
  {
   "cell_type": "code",
   "execution_count": null,
   "id": "1d6b3528",
   "metadata": {},
   "outputs": [],
   "source": []
  },
  {
   "cell_type": "code",
   "execution_count": null,
   "id": "0ee9898f",
   "metadata": {},
   "outputs": [],
   "source": []
  },
  {
   "cell_type": "code",
   "execution_count": null,
   "id": "a54d63e6",
   "metadata": {},
   "outputs": [],
   "source": []
  }
 ],
 "metadata": {
  "kernelspec": {
   "display_name": ".venv",
   "language": "python",
   "name": "python3"
  },
  "language_info": {
   "codemirror_mode": {
    "name": "ipython",
    "version": 3
   },
   "file_extension": ".py",
   "mimetype": "text/x-python",
   "name": "python",
   "nbconvert_exporter": "python",
   "pygments_lexer": "ipython3",
   "version": "3.12.1"
  }
 },
 "nbformat": 4,
 "nbformat_minor": 5
}
