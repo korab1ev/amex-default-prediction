{
 "cells": [
  {
   "cell_type": "code",
   "execution_count": null,
   "id": "f043e659",
   "metadata": {},
   "outputs": [],
   "source": []
  },
  {
   "cell_type": "code",
   "execution_count": null,
   "id": "256d7d74",
   "metadata": {},
   "outputs": [],
   "source": [
    "# read pickle (with hyperparams)"
   ]
  },
  {
   "cell_type": "code",
   "execution_count": null,
   "id": "01d70119",
   "metadata": {},
   "outputs": [],
   "source": []
  }
 ],
 "metadata": {
  "language_info": {
   "name": "python"
  }
 },
 "nbformat": 4,
 "nbformat_minor": 5
}
