{
 "cells": [
  {
   "cell_type": "code",
   "execution_count": 1,
   "id": "9b298318",
   "metadata": {},
   "outputs": [],
   "source": [
    "%run import_libs.py"
   ]
  },
  {
   "cell_type": "markdown",
   "id": "84e11607",
   "metadata": {},
   "source": [
    "### get data"
   ]
  },
  {
   "cell_type": "code",
   "execution_count": 2,
   "id": "c2a933c4",
   "metadata": {},
   "outputs": [],
   "source": [
    "short_list = [\n",
    "    'P_2_last', 'B_1_last', 'B_3_last', 'D_39_last', 'D_41_last', 'D_45_max', 'B_28_min', 'D_42_avg', 'B_14_last',\n",
    "    'D_50_last','B_5_last','B_4_last','D_44_last','P_2_min','D_46_last','D_51_avg','B_2_avg','P_2_avg','D_49_last',\n",
    "    'S_3_last','S_3_avg','D_43_avg','B_4_max', 'D_39_max', 'D_43_last', 'S_5_last', 'B_7_last', 'B_18_last', 'P_3_avg', \n",
    "    'B_9_last', 'R_4_last', 'R_2_last', 'D_121_min', 'S_26_max'\n",
    "]"
   ]
  },
  {
   "cell_type": "code",
   "execution_count": 4,
   "id": "dd213ddc",
   "metadata": {},
   "outputs": [
    {
     "name": "stdout",
     "output_type": "stream",
     "text": [
      "(458913, 151)\n",
      "(458913, 151)\n",
      "(458913, 151)\n",
      "(458913, 162)\n",
      "(458913, 616)\n"
     ]
    }
   ],
   "source": [
    "df_train = get_train_data(TRAIN_PATH='./data/train.parquet')\n",
    "num_features = pd.read_csv(\"num_feats_after_filtering.csv\")[\"0\"].to_list()\n",
    "# num_features = short_list\n",
    "\n",
    "df_train_agg = get_df_w_aggrs(df=df_train, feats=num_features)\n",
    "df_train_target = get_target(TARGET_PATH='./data/train_labels.csv')\n",
    "df_train = get_train_data_with_target_merged(df_train=df_train_agg, df_train_target=df_train_target)"
   ]
  },
  {
   "cell_type": "code",
   "execution_count": 9,
   "id": "317983d1",
   "metadata": {},
   "outputs": [
    {
     "name": "stdout",
     "output_type": "stream",
     "text": [
      "(924621, 151)\n",
      "(924621, 151)\n",
      "(924621, 151)\n",
      "(924621, 162)\n",
      "(924621, 616)\n"
     ]
    }
   ],
   "source": [
    "df_test = get_test_data(TEST_PATH='./data/test.parquet')\n",
    "df_test = get_df_w_aggrs(df=df_test, feats=num_features)"
   ]
  },
  {
   "cell_type": "code",
   "execution_count": null,
   "id": "427e10ed",
   "metadata": {},
   "outputs": [],
   "source": [
    "# оставляем только short_list\n",
    "df_train = df_train[['customer_ID'] + short_list + ['target']]\n",
    "df_test = df_test[['customer_ID'] + short_list]"
   ]
  },
  {
   "cell_type": "markdown",
   "id": "d1f44858",
   "metadata": {},
   "source": [
    "### fit model"
   ]
  },
  {
   "cell_type": "code",
   "execution_count": 17,
   "id": "865d860e",
   "metadata": {},
   "outputs": [
    {
     "data": {
      "text/plain": [
       "34"
      ]
     },
     "execution_count": 17,
     "metadata": {},
     "output_type": "execute_result"
    }
   ],
   "source": [
    "len(short_list)"
   ]
  },
  {
   "cell_type": "code",
   "execution_count": 16,
   "id": "280a373e",
   "metadata": {},
   "outputs": [
    {
     "name": "stdout",
     "output_type": "stream",
     "text": [
      "Fold 0\n",
      " Amex = 0.77913\n",
      "Fold 1\n",
      " Amex = 0.78145\n",
      "Fold 2\n",
      " Amex = 0.78321\n",
      "Fold 3\n",
      " Amex = 0.77928\n",
      "Fold 4\n",
      " Amex = 0.78402\n"
     ]
    }
   ],
   "source": [
    "# fit predict engeneering\n",
    "random_state = 42\n",
    "group_col = 'customer_ID'\n",
    "target_col = 'target'\n",
    "y, groups = df_train[target_col].values, df_train[group_col].values\n",
    "fold_scores, fold_test_raw = [], []\n",
    "\n",
    "sgkf = StratifiedGroupKFold(5, shuffle=True, random_state=random_state)\n",
    "\n",
    "params = dict(\n",
    "    learning_rate=.05, subsample=.9, subsample_freq=1,\n",
    "    colsample_bytree=.8, objective='binary',\n",
    "    random_state=random_state,\n",
    "    max_depth=7, n_estimators=484,\n",
    "    n_jobs=-1, verbosity=-1\n",
    ")\n",
    "\n",
    "for fold, (tr_idx, va_idx) in enumerate(\n",
    "        sgkf.split(df_train[[group_col, target_col]], y, groups)):\n",
    "    print(f\"Fold {fold}\")\n",
    "    X_tr, X_va = df_train.iloc[tr_idx][short_list], df_train.iloc[va_idx][short_list]\n",
    "    y_tr, y_va = y[tr_idx], y[va_idx]\n",
    "    model = LGBMClassifier(**params)\n",
    "    model.fit(X_tr, y_tr,\n",
    "                eval_set=[(X_va, y_va)],\n",
    "                eval_metric=lgb_amex_metric)\n",
    "    pred_va = model.predict_proba(X_va)[:,1]\n",
    "    sc = get_amex_metric_calculated(y_va, pred_va)\n",
    "    print(f\" Amex = {sc:.5f}\")\n",
    "    fold_scores.append(sc)\n",
    "    fold_test_raw.append(model.predict_proba(df_test[short_list], raw_score=True))"
   ]
  },
  {
   "cell_type": "code",
   "execution_count": 18,
   "id": "2a0acf63",
   "metadata": {},
   "outputs": [
    {
     "name": "stdout",
     "output_type": "stream",
     "text": [
      "Mean CV Amex = 0.78142\n"
     ]
    }
   ],
   "source": [
    "mean_cv = float(np.mean(fold_scores))\n",
    "print(f\"Mean CV Amex = {mean_cv:.5f}\")"
   ]
  },
  {
   "cell_type": "code",
   "execution_count": null,
   "id": "dbc6556d",
   "metadata": {},
   "outputs": [],
   "source": [
    "model_full = LGBMClassifier(**params).fit(\n",
    "    df_train[short_list], df_train[target_col])\n",
    "\n",
    "gains = model_full.booster_.feature_importance('gain')\n",
    "imp_df = (pd.DataFrame({'feature': short_list, 'gain': gains})\n",
    "            .sort_values('gain', ascending=False))\n",
    "imp_df['share'] = imp_df['gain'] / imp_df['gain'].sum()"
   ]
  },
  {
   "cell_type": "code",
   "execution_count": 22,
   "id": "876fc22c",
   "metadata": {},
   "outputs": [],
   "source": [
    "with open(\"list_perm_imp_dfs.pkl\", \"rb\") as f:\n",
    "    perm_imp_df = pickle.load(f)"
   ]
  },
  {
   "cell_type": "code",
   "execution_count": 33,
   "id": "bba898f9",
   "metadata": {},
   "outputs": [],
   "source": [
    "df_imp_merged = (imp_df\n",
    ".merge(perm_imp_df[40]['importance'], on='feature')\n",
    ")\n",
    "\n",
    "df_imp_merged.columns = [\"feature\", \"imp_gain\", 'share_gain', 'imp_perm']\n",
    "df_imp_merged['share_perm'] = df_imp_merged['imp_perm'] / df_imp_merged['imp_perm'].sum()"
   ]
  },
  {
   "cell_type": "code",
   "execution_count": null,
   "id": "0b356a08",
   "metadata": {},
   "outputs": [
    {
     "data": {
      "text/html": [
       "<div>\n",
       "<style scoped>\n",
       "    .dataframe tbody tr th:only-of-type {\n",
       "        vertical-align: middle;\n",
       "    }\n",
       "\n",
       "    .dataframe tbody tr th {\n",
       "        vertical-align: top;\n",
       "    }\n",
       "\n",
       "    .dataframe thead th {\n",
       "        text-align: right;\n",
       "    }\n",
       "</style>\n",
       "<table border=\"1\" class=\"dataframe\">\n",
       "  <thead>\n",
       "    <tr style=\"text-align: right;\">\n",
       "      <th></th>\n",
       "      <th>feature</th>\n",
       "      <th>imp_gain</th>\n",
       "      <th>share_gain</th>\n",
       "      <th>imp_perm</th>\n",
       "      <th>share_perm</th>\n",
       "    </tr>\n",
       "  </thead>\n",
       "  <tbody>\n",
       "    <tr>\n",
       "      <th>0</th>\n",
       "      <td>P_2_last</td>\n",
       "      <td>1.392982e+06</td>\n",
       "      <td>0.451848</td>\n",
       "      <td>0.053632</td>\n",
       "      <td>0.250459</td>\n",
       "    </tr>\n",
       "    <tr>\n",
       "      <th>1</th>\n",
       "      <td>P_2_avg</td>\n",
       "      <td>3.099985e+05</td>\n",
       "      <td>0.100556</td>\n",
       "      <td>0.004279</td>\n",
       "      <td>0.019985</td>\n",
       "    </tr>\n",
       "    <tr>\n",
       "      <th>2</th>\n",
       "      <td>P_2_min</td>\n",
       "      <td>2.498633e+05</td>\n",
       "      <td>0.081049</td>\n",
       "      <td>0.004871</td>\n",
       "      <td>0.022745</td>\n",
       "    </tr>\n",
       "  </tbody>\n",
       "</table>\n",
       "</div>"
      ],
      "text/plain": [
       "    feature      imp_gain  share_gain  imp_perm  share_perm\n",
       "0  P_2_last  1.392982e+06    0.451848  0.053632    0.250459\n",
       "1   P_2_avg  3.099985e+05    0.100556  0.004279    0.019985\n",
       "2   P_2_min  2.498633e+05    0.081049  0.004871    0.022745"
      ]
     },
     "execution_count": 35,
     "metadata": {},
     "output_type": "execute_result"
    }
   ],
   "source": [
    "df_imp_merged.head(3)"
   ]
  },
  {
   "cell_type": "code",
   "execution_count": 37,
   "id": "3a2cbb37",
   "metadata": {},
   "outputs": [],
   "source": [
    "# save importance df final model\n",
    "df_imp_merged.to_csv(\"gain_and_permutation_feature_importance_short_list.csv\", index=None)"
   ]
  },
  {
   "cell_type": "code",
   "execution_count": null,
   "id": "2c4ddab6",
   "metadata": {},
   "outputs": [],
   "source": [
    "# fit on all train\n",
    "# shap"
   ]
  },
  {
   "cell_type": "markdown",
   "id": "ccfde5bf",
   "metadata": {},
   "source": [
    "### hyperparameter search (optuna)"
   ]
  },
  {
   "cell_type": "code",
   "execution_count": null,
   "id": "7d8aca56",
   "metadata": {},
   "outputs": [],
   "source": [
    "# optuna"
   ]
  },
  {
   "cell_type": "markdown",
   "id": "c469faa5",
   "metadata": {},
   "source": [
    "### interpreting results"
   ]
  },
  {
   "cell_type": "code",
   "execution_count": null,
   "id": "efd24f6e",
   "metadata": {},
   "outputs": [],
   "source": []
  },
  {
   "cell_type": "code",
   "execution_count": null,
   "id": "800b7335",
   "metadata": {},
   "outputs": [],
   "source": []
  },
  {
   "cell_type": "code",
   "execution_count": null,
   "id": "02ea4392",
   "metadata": {},
   "outputs": [],
   "source": []
  }
 ],
 "metadata": {
  "kernelspec": {
   "display_name": ".venv",
   "language": "python",
   "name": "python3"
  },
  "language_info": {
   "codemirror_mode": {
    "name": "ipython",
    "version": 3
   },
   "file_extension": ".py",
   "mimetype": "text/x-python",
   "name": "python",
   "nbconvert_exporter": "python",
   "pygments_lexer": "ipython3",
   "version": "3.12.1"
  }
 },
 "nbformat": 4,
 "nbformat_minor": 5
}
