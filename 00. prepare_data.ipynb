{
 "cells": [
  {
   "cell_type": "code",
   "execution_count": 1,
   "id": "70534208",
   "metadata": {},
   "outputs": [],
   "source": [
    "%run import_libs.py"
   ]
  },
  {
   "cell_type": "markdown",
   "id": "2996750a",
   "metadata": {},
   "source": [
    "### get data"
   ]
  },
  {
   "cell_type": "code",
   "execution_count": null,
   "id": "8411156a",
   "metadata": {},
   "outputs": [],
   "source": [
    "'''\n",
    "df_train = get_train_data(TRAIN_PATH='./data/train.parquet')\n",
    "\n",
    "all_features = get_all_features(df_train)\n",
    "cat_features = get_cat_features()\n",
    "num_features = get_num_features(all_features, cat_features)\n",
    "# len(all_features), len(cat_features), len(num_features) -> (190, 11, 178)\n",
    "\n",
    "df_train_agg = get_df_w_aggrs(df=df_train, feats=num_features)\n",
    "df_train_target = get_target(TARGET_PATH='./data/train_labels.csv')\n",
    "df_train = get_train_data_with_target_merged(df_train=df_train_agg, df_train_target=df_train_target)\n",
    "\n",
    "df_test = get_test_data(TEST_PATH='./data/test.parquet')\n",
    "df_test = get_df_w_aggrs(df=df_test, feats=num_features)\n",
    "'''"
   ]
  },
  {
   "cell_type": "code",
   "execution_count": null,
   "id": "92a32694",
   "metadata": {},
   "outputs": [],
   "source": [
    "df_train = get_train_data(TRAIN_PATH='./data/train.parquet')\n",
    "df_train_target = get_target(TARGET_PATH='./data/train_labels.csv')\n",
    "df_train = get_train_data_with_target_merged(df_train=df_train, df_train_target=df_train_target)\n",
    "\n",
    "df_test = get_test_data(TEST_PATH='./data/test.parquet')"
   ]
  },
  {
   "cell_type": "code",
   "execution_count": null,
   "id": "0cd5d784",
   "metadata": {},
   "outputs": [],
   "source": [
    "all_features = get_all_features(df_train)\n",
    "cat_features = get_cat_features()\n",
    "num_features = get_num_features(all_features, cat_features)\n",
    "\n",
    "# len(all_features), len(cat_features), len(num_features) -> (190, 11, 178)"
   ]
  },
  {
   "cell_type": "markdown",
   "id": "ca2bdcae",
   "metadata": {},
   "source": [
    "### % null"
   ]
  },
  {
   "cell_type": "code",
   "execution_count": null,
   "id": "bcbaa86a",
   "metadata": {},
   "outputs": [],
   "source": [
    "# zapolnenie_train = check_zapolnenie(df_train)\n",
    "# zapolnenie_test = check_zapolnenie(df_test)"
   ]
  },
  {
   "cell_type": "code",
   "execution_count": null,
   "id": "48870a2b",
   "metadata": {},
   "outputs": [],
   "source": []
  },
  {
   "cell_type": "code",
   "execution_count": null,
   "id": "afd71c5b",
   "metadata": {},
   "outputs": [],
   "source": []
  },
  {
   "cell_type": "markdown",
   "id": "2803f700",
   "metadata": {},
   "source": [
    "### PSI features"
   ]
  },
  {
   "cell_type": "code",
   "execution_count": null,
   "id": "277cbec7",
   "metadata": {},
   "outputs": [],
   "source": []
  },
  {
   "cell_type": "markdown",
   "id": "e44c7b5d",
   "metadata": {},
   "source": []
  },
  {
   "cell_type": "code",
   "execution_count": null,
   "id": "6086b7d6",
   "metadata": {},
   "outputs": [],
   "source": []
  },
  {
   "cell_type": "code",
   "execution_count": null,
   "id": "d2a8ab2d",
   "metadata": {},
   "outputs": [],
   "source": []
  }
 ],
 "metadata": {
  "kernelspec": {
   "display_name": ".venv",
   "language": "python",
   "name": "python3"
  },
  "language_info": {
   "codemirror_mode": {
    "name": "ipython",
    "version": 3
   },
   "file_extension": ".py",
   "mimetype": "text/x-python",
   "name": "python",
   "nbconvert_exporter": "python",
   "pygments_lexer": "ipython3",
   "version": "3.12.1"
  }
 },
 "nbformat": 4,
 "nbformat_minor": 5
}
