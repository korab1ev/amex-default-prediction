{
 "cells": [
  {
   "cell_type": "code",
   "execution_count": 1,
   "id": "e2300091",
   "metadata": {},
   "outputs": [],
   "source": [
    "%run import_libs.py"
   ]
  },
  {
   "cell_type": "code",
   "execution_count": null,
   "id": "2e2a53f1",
   "metadata": {},
   "outputs": [],
   "source": [
    "import os\n",
    "import sys\n",
    "import glob\n",
    "\n",
    "import numpy as np\n",
    "import pandas as pd\n",
    "\n",
    "import matplotlib.pylab as plt\n",
    "from matplotlib_venn import venn2\n",
    "import seaborn as sns\n",
    "\n",
    "from tqdm import tqdm\n",
    "from itertools import cycle\n",
    "\n",
    "from sklearn import metrics\n",
    "from sklearn import model_selection\n",
    "from sklearn import preprocessing\n",
    "from sklearn import linear_model\n",
    "from sklearn import feature_selection\n",
    "\n",
    "import lightgbm as lgb\n",
    "import xgboost as xgb\n",
    "import catboost as cat\n",
    "\n",
    "import optbinning\n",
    "\n",
    "pd.set_option(\"display.max_columns\", None)\n",
    "\n",
    "plt.style.use(\"ggplot\")\n",
    "color_pal = plt.rcParams[\"axes.prop_cycle\"].by_key()[\"color\"]\n",
    "color_cycle = cycle(plt.rcParams[\"axes.prop_cycle\"].by_key()[\"color\"])"
   ]
  },
  {
   "cell_type": "markdown",
   "id": "19b105b5",
   "metadata": {},
   "source": [
    "### Data without aggregation (for EDA)"
   ]
  },
  {
   "cell_type": "code",
   "execution_count": null,
   "id": "ce520d5d",
   "metadata": {},
   "outputs": [],
   "source": [
    "df_train = get_train_data(TRAIN_PATH='./data/train.parquet')\n",
    "\n",
    "num_features = pd.read_csv(\"num_feats_after_filtering.csv\")[\"0\"].to_list()\n",
    "df_train_target = get_target(TARGET_PATH='./data/train_labels.csv')\n",
    "df_train = get_train_data_with_target_merged(df_train=df_train, df_train_target=df_train_target)"
   ]
  },
  {
   "cell_type": "code",
   "execution_count": null,
   "id": "b8e636bf",
   "metadata": {},
   "outputs": [],
   "source": [
    "df_test = get_test_data(TEST_PATH='./data/test.parquet')"
   ]
  },
  {
   "cell_type": "code",
   "execution_count": null,
   "id": "4cdb3984",
   "metadata": {},
   "outputs": [],
   "source": [
    "df_train.head(3)"
   ]
  },
  {
   "cell_type": "code",
   "execution_count": null,
   "id": "b6aab17c",
   "metadata": {},
   "outputs": [],
   "source": [
    "df_test.head(3)"
   ]
  },
  {
   "cell_type": "markdown",
   "id": "363ca064",
   "metadata": {},
   "source": [
    "### Target Distribution"
   ]
  },
  {
   "cell_type": "code",
   "execution_count": null,
   "id": "b242dbc0",
   "metadata": {},
   "outputs": [],
   "source": [
    "fig, ax = plt.subplots(figsize=(10,5))\n",
    "sns.countplot(x=train_labels.target)\n",
    "plt.show()"
   ]
  },
  {
   "cell_type": "markdown",
   "id": "b38a9ec3",
   "metadata": {},
   "source": [
    "### EDA"
   ]
  },
  {
   "cell_type": "code",
   "execution_count": null,
   "id": "091caa79",
   "metadata": {},
   "outputs": [],
   "source": [
    "# number of unique cutomers\n",
    "\n",
    "fig, ax = plt.subplots(figsize=(10,5))\n",
    "set1 = set(train_df.customer_ID.unique())\n",
    "set2 = set(test_df.customer_ID.unique())\n",
    "\n",
    "venn2([set1, set2], ('train', 'test'))\n",
    "plt.show()"
   ]
  },
  {
   "cell_type": "markdown",
   "id": "b27a6c58",
   "metadata": {},
   "source": [
    "we can observe that non of the user intersect in train test data"
   ]
  },
  {
   "cell_type": "code",
   "execution_count": null,
   "id": "461a55ae",
   "metadata": {},
   "outputs": [],
   "source": [
    "# s_2 date featue\n",
    "train_df['S_2'] = pd.to_datetime(train_df['S_2'])\n",
    "test_df['S_2'] = pd.to_datetime(test_df['S_2'])\n",
    "\n",
    "train_df['S_2'].min(), train_df['S_2'].max()"
   ]
  },
  {
   "cell_type": "code",
   "execution_count": null,
   "id": "e18271fb",
   "metadata": {},
   "outputs": [],
   "source": [
    "test_df['S_2'].min(), test_df['S_2'].max()"
   ]
  },
  {
   "cell_type": "code",
   "execution_count": null,
   "id": "f6a7dbab",
   "metadata": {},
   "outputs": [],
   "source": [
    "# checking user profiles number of user profiles vs timeline\n",
    "\n",
    "fig, ax = plt.subplots(figsize=(20,5))\n",
    "train_df.groupby(\"S_2\")['customer_ID'].count().plot()\n",
    "plt.title(\"train profiles vs timeline\")\n",
    "plt.show()\n",
    "\n",
    "fig, ax = plt.subplots(figsize=(20,5))\n",
    "test_df.groupby(\"S_2\")['customer_ID'].count().plot()\n",
    "plt.title(\"test profiles vs timeline\")\n",
    "plt.show()"
   ]
  },
  {
   "cell_type": "markdown",
   "id": "33491d73",
   "metadata": {},
   "source": [
    "we can observe that train profiles are consistence  \n",
    "but test profiles increased between oct to apr"
   ]
  },
  {
   "cell_type": "code",
   "execution_count": null,
   "id": "c504ea9d",
   "metadata": {},
   "outputs": [],
   "source": [
    "# check each customer profile length\n",
    "\n",
    "fig, ax = plt.subplots(figsize=(20,5))\n",
    "sns.countplot(x=train_df.groupby(\"customer_ID\")['customer_ID'].count().values)\n",
    "plt.title(\"train customer profile length\")\n",
    "plt.show()\n",
    "\n",
    "fig, ax = plt.subplots(figsize=(20,5))\n",
    "sns.countplot(x=test_df.groupby(\"customer_ID\")['customer_ID'].count().values)\n",
    "plt.title(\"test customer profile length\")\n",
    "plt.show()"
   ]
  },
  {
   "cell_type": "markdown",
   "id": "531250e3",
   "metadata": {},
   "source": [
    "we can observe that train and test profile lengths are similar distributions"
   ]
  },
  {
   "cell_type": "markdown",
   "id": "fe31e89c",
   "metadata": {},
   "source": [
    "### Information Value (IV)"
   ]
  },
  {
   "cell_type": "code",
   "execution_count": null,
   "id": "432d719d",
   "metadata": {},
   "outputs": [],
   "source": [
    "iv_score_dict = {}\n",
    "for col in tqdm(train_cols):\n",
    "    if col in cat_cols:\n",
    "        optb = optbinning.OptimalBinning(dtype='categorical')\n",
    "        optb.fit(train_df[col], train_df['target'])\n",
    "    else:\n",
    "        optb = optbinning.OptimalBinning(dtype='numerical')\n",
    "        optb.fit(train_df[col], train_df['target'])\n",
    "    binning_table = optb.binning_table\n",
    "    binning_table.build()\n",
    "    iv_score_dict[col] = binning_table.iv\n",
    "\n",
    "iv_score_df = pd.Series(iv_score_dict)\n",
    "iv_score_df.sort_values(ascending=False, inplace=True)"
   ]
  },
  {
   "cell_type": "code",
   "execution_count": null,
   "id": "41e8a960",
   "metadata": {},
   "outputs": [],
   "source": [
    "# top 10 imp iv features\n",
    "iv_score_df.head(10)"
   ]
  },
  {
   "cell_type": "code",
   "execution_count": null,
   "id": "03480e23",
   "metadata": {},
   "outputs": [],
   "source": []
  },
  {
   "cell_type": "markdown",
   "id": "efae5a30",
   "metadata": {},
   "source": [
    "### get data"
   ]
  },
  {
   "cell_type": "code",
   "execution_count": 2,
   "id": "b6c50fa6",
   "metadata": {},
   "outputs": [
    {
     "name": "stdout",
     "output_type": "stream",
     "text": [
      "(458913, 151)\n",
      "(458913, 151)\n",
      "(458913, 151)\n",
      "(458913, 162)\n",
      "(458913, 616)\n"
     ]
    }
   ],
   "source": [
    "df_train = get_train_data(TRAIN_PATH='./data/train.parquet')\n",
    "num_features = pd.read_csv(\"num_feats_after_filtering.csv\")[\"0\"].to_list()\n",
    "\n",
    "df_train_agg = get_df_w_aggrs(df=df_train, feats=num_features)\n",
    "df_train_target = get_target(TARGET_PATH='./data/train_labels.csv')\n",
    "df_train = get_train_data_with_target_merged(df_train=df_train_agg, df_train_target=df_train_target)"
   ]
  },
  {
   "cell_type": "code",
   "execution_count": 3,
   "id": "36a42bfc",
   "metadata": {},
   "outputs": [
    {
     "name": "stdout",
     "output_type": "stream",
     "text": [
      "(924621, 151)\n",
      "(924621, 151)\n",
      "(924621, 151)\n",
      "(924621, 162)\n",
      "(924621, 616)\n"
     ]
    }
   ],
   "source": [
    "df_test = get_test_data(TEST_PATH='./data/test.parquet')\n",
    "df_test = get_df_w_aggrs(df=df_test, feats=num_features)"
   ]
  },
  {
   "cell_type": "code",
   "execution_count": 4,
   "id": "7cc3fc5f",
   "metadata": {},
   "outputs": [
    {
     "data": {
      "text/html": [
       "<div>\n",
       "<style scoped>\n",
       "    .dataframe tbody tr th:only-of-type {\n",
       "        vertical-align: middle;\n",
       "    }\n",
       "\n",
       "    .dataframe tbody tr th {\n",
       "        vertical-align: top;\n",
       "    }\n",
       "\n",
       "    .dataframe thead th {\n",
       "        text-align: right;\n",
       "    }\n",
       "</style>\n",
       "<table border=\"1\" class=\"dataframe\">\n",
       "  <thead>\n",
       "    <tr style=\"text-align: right;\">\n",
       "      <th></th>\n",
       "      <th>customer_ID</th>\n",
       "      <th>P_2_min</th>\n",
       "      <th>P_3_min</th>\n",
       "      <th>P_4_min</th>\n",
       "      <th>D_39_min</th>\n",
       "      <th>D_41_min</th>\n",
       "      <th>D_42_min</th>\n",
       "      <th>D_43_min</th>\n",
       "      <th>D_44_min</th>\n",
       "      <th>D_45_min</th>\n",
       "      <th>...</th>\n",
       "      <th>D_114_last</th>\n",
       "      <th>D_116_last</th>\n",
       "      <th>D_117_last</th>\n",
       "      <th>D_120_last</th>\n",
       "      <th>D_126_last</th>\n",
       "      <th>D_63_last</th>\n",
       "      <th>D_64_last</th>\n",
       "      <th>D_66_last</th>\n",
       "      <th>D_68_last</th>\n",
       "      <th>target</th>\n",
       "    </tr>\n",
       "  </thead>\n",
       "  <tbody>\n",
       "    <tr>\n",
       "      <th>0</th>\n",
       "      <td>0000099d6bd597052cdcda90ffabf56573fe9d7c79be5f...</td>\n",
       "      <td>0.868580</td>\n",
       "      <td>0.581678</td>\n",
       "      <td>0.0</td>\n",
       "      <td>0</td>\n",
       "      <td>0.0</td>\n",
       "      <td>NaN</td>\n",
       "      <td>NaN</td>\n",
       "      <td>0</td>\n",
       "      <td>0.708906</td>\n",
       "      <td>...</td>\n",
       "      <td>1</td>\n",
       "      <td>0</td>\n",
       "      <td>5</td>\n",
       "      <td>0</td>\n",
       "      <td>2</td>\n",
       "      <td>0</td>\n",
       "      <td>0</td>\n",
       "      <td>-1</td>\n",
       "      <td>6</td>\n",
       "      <td>0</td>\n",
       "    </tr>\n",
       "    <tr>\n",
       "      <th>1</th>\n",
       "      <td>00000fd6641609c6ece5454664794f0340ad84dddce9a2...</td>\n",
       "      <td>0.861109</td>\n",
       "      <td>0.510142</td>\n",
       "      <td>0.0</td>\n",
       "      <td>0</td>\n",
       "      <td>0.0</td>\n",
       "      <td>NaN</td>\n",
       "      <td>0.060646</td>\n",
       "      <td>0</td>\n",
       "      <td>0.239459</td>\n",
       "      <td>...</td>\n",
       "      <td>1</td>\n",
       "      <td>0</td>\n",
       "      <td>0</td>\n",
       "      <td>0</td>\n",
       "      <td>2</td>\n",
       "      <td>3</td>\n",
       "      <td>0</td>\n",
       "      <td>-1</td>\n",
       "      <td>6</td>\n",
       "      <td>0</td>\n",
       "    </tr>\n",
       "    <tr>\n",
       "      <th>2</th>\n",
       "      <td>00001b22f846c82c51f6e3958ccd81970162bae8b007e8...</td>\n",
       "      <td>0.797670</td>\n",
       "      <td>0.381123</td>\n",
       "      <td>0.0</td>\n",
       "      <td>0</td>\n",
       "      <td>0.0</td>\n",
       "      <td>NaN</td>\n",
       "      <td>NaN</td>\n",
       "      <td>0</td>\n",
       "      <td>0.222406</td>\n",
       "      <td>...</td>\n",
       "      <td>1</td>\n",
       "      <td>0</td>\n",
       "      <td>0</td>\n",
       "      <td>0</td>\n",
       "      <td>2</td>\n",
       "      <td>3</td>\n",
       "      <td>2</td>\n",
       "      <td>-1</td>\n",
       "      <td>6</td>\n",
       "      <td>0</td>\n",
       "    </tr>\n",
       "  </tbody>\n",
       "</table>\n",
       "<p>3 rows × 617 columns</p>\n",
       "</div>"
      ],
      "text/plain": [
       "                                         customer_ID   P_2_min   P_3_min  \\\n",
       "0  0000099d6bd597052cdcda90ffabf56573fe9d7c79be5f...  0.868580  0.581678   \n",
       "1  00000fd6641609c6ece5454664794f0340ad84dddce9a2...  0.861109  0.510142   \n",
       "2  00001b22f846c82c51f6e3958ccd81970162bae8b007e8...  0.797670  0.381123   \n",
       "\n",
       "   P_4_min  D_39_min  D_41_min  D_42_min  D_43_min  D_44_min  D_45_min  ...  \\\n",
       "0      0.0         0       0.0       NaN       NaN         0  0.708906  ...   \n",
       "1      0.0         0       0.0       NaN  0.060646         0  0.239459  ...   \n",
       "2      0.0         0       0.0       NaN       NaN         0  0.222406  ...   \n",
       "\n",
       "   D_114_last  D_116_last  D_117_last  D_120_last  D_126_last  D_63_last  \\\n",
       "0           1           0           5           0           2          0   \n",
       "1           1           0           0           0           2          3   \n",
       "2           1           0           0           0           2          3   \n",
       "\n",
       "   D_64_last  D_66_last  D_68_last  target  \n",
       "0          0         -1          6       0  \n",
       "1          0         -1          6       0  \n",
       "2          2         -1          6       0  \n",
       "\n",
       "[3 rows x 617 columns]"
      ]
     },
     "execution_count": 4,
     "metadata": {},
     "output_type": "execute_result"
    }
   ],
   "source": [
    "df_train.head(3)"
   ]
  },
  {
   "cell_type": "code",
   "execution_count": 5,
   "id": "2fa44994",
   "metadata": {},
   "outputs": [
    {
     "data": {
      "text/html": [
       "<div>\n",
       "<style scoped>\n",
       "    .dataframe tbody tr th:only-of-type {\n",
       "        vertical-align: middle;\n",
       "    }\n",
       "\n",
       "    .dataframe tbody tr th {\n",
       "        vertical-align: top;\n",
       "    }\n",
       "\n",
       "    .dataframe thead th {\n",
       "        text-align: right;\n",
       "    }\n",
       "</style>\n",
       "<table border=\"1\" class=\"dataframe\">\n",
       "  <thead>\n",
       "    <tr style=\"text-align: right;\">\n",
       "      <th></th>\n",
       "      <th>customer_ID</th>\n",
       "      <th>P_2_min</th>\n",
       "      <th>P_3_min</th>\n",
       "      <th>P_4_min</th>\n",
       "      <th>D_39_min</th>\n",
       "      <th>D_41_min</th>\n",
       "      <th>D_42_min</th>\n",
       "      <th>D_43_min</th>\n",
       "      <th>D_44_min</th>\n",
       "      <th>D_45_min</th>\n",
       "      <th>...</th>\n",
       "      <th>B_38_last</th>\n",
       "      <th>D_114_last</th>\n",
       "      <th>D_116_last</th>\n",
       "      <th>D_117_last</th>\n",
       "      <th>D_120_last</th>\n",
       "      <th>D_126_last</th>\n",
       "      <th>D_63_last</th>\n",
       "      <th>D_64_last</th>\n",
       "      <th>D_66_last</th>\n",
       "      <th>D_68_last</th>\n",
       "    </tr>\n",
       "  </thead>\n",
       "  <tbody>\n",
       "    <tr>\n",
       "      <th>0</th>\n",
       "      <td>00000469ba478561f23a92a868bd366de6f6527a684c9a...</td>\n",
       "      <td>0.568930</td>\n",
       "      <td>0.535311</td>\n",
       "      <td>0.958618</td>\n",
       "      <td>0</td>\n",
       "      <td>0.0</td>\n",
       "      <td>0.103745</td>\n",
       "      <td>0.006272</td>\n",
       "      <td>0</td>\n",
       "      <td>0.004483</td>\n",
       "      <td>...</td>\n",
       "      <td>2</td>\n",
       "      <td>0</td>\n",
       "      <td>0</td>\n",
       "      <td>0</td>\n",
       "      <td>1</td>\n",
       "      <td>1</td>\n",
       "      <td>0</td>\n",
       "      <td>3</td>\n",
       "      <td>-1</td>\n",
       "      <td>6</td>\n",
       "    </tr>\n",
       "    <tr>\n",
       "      <th>1</th>\n",
       "      <td>00001bf2e77ff879fab36aa4fac689b9ba411dae63ae39...</td>\n",
       "      <td>0.794469</td>\n",
       "      <td>0.385655</td>\n",
       "      <td>0.000000</td>\n",
       "      <td>0</td>\n",
       "      <td>0.0</td>\n",
       "      <td>NaN</td>\n",
       "      <td>NaN</td>\n",
       "      <td>0</td>\n",
       "      <td>0.076225</td>\n",
       "      <td>...</td>\n",
       "      <td>2</td>\n",
       "      <td>1</td>\n",
       "      <td>0</td>\n",
       "      <td>4</td>\n",
       "      <td>0</td>\n",
       "      <td>2</td>\n",
       "      <td>3</td>\n",
       "      <td>0</td>\n",
       "      <td>-1</td>\n",
       "      <td>6</td>\n",
       "    </tr>\n",
       "    <tr>\n",
       "      <th>2</th>\n",
       "      <td>0000210045da4f81e5f122c6bde5c2a617d03eef67f82c...</td>\n",
       "      <td>0.673112</td>\n",
       "      <td>0.381666</td>\n",
       "      <td>0.000000</td>\n",
       "      <td>0</td>\n",
       "      <td>0.0</td>\n",
       "      <td>NaN</td>\n",
       "      <td>0.085228</td>\n",
       "      <td>0</td>\n",
       "      <td>0.041670</td>\n",
       "      <td>...</td>\n",
       "      <td>2</td>\n",
       "      <td>0</td>\n",
       "      <td>0</td>\n",
       "      <td>4</td>\n",
       "      <td>0</td>\n",
       "      <td>1</td>\n",
       "      <td>0</td>\n",
       "      <td>3</td>\n",
       "      <td>1</td>\n",
       "      <td>4</td>\n",
       "    </tr>\n",
       "  </tbody>\n",
       "</table>\n",
       "<p>3 rows × 616 columns</p>\n",
       "</div>"
      ],
      "text/plain": [
       "                                         customer_ID   P_2_min   P_3_min  \\\n",
       "0  00000469ba478561f23a92a868bd366de6f6527a684c9a...  0.568930  0.535311   \n",
       "1  00001bf2e77ff879fab36aa4fac689b9ba411dae63ae39...  0.794469  0.385655   \n",
       "2  0000210045da4f81e5f122c6bde5c2a617d03eef67f82c...  0.673112  0.381666   \n",
       "\n",
       "    P_4_min  D_39_min  D_41_min  D_42_min  D_43_min  D_44_min  D_45_min  ...  \\\n",
       "0  0.958618         0       0.0  0.103745  0.006272         0  0.004483  ...   \n",
       "1  0.000000         0       0.0       NaN       NaN         0  0.076225  ...   \n",
       "2  0.000000         0       0.0       NaN  0.085228         0  0.041670  ...   \n",
       "\n",
       "   B_38_last  D_114_last  D_116_last  D_117_last  D_120_last  D_126_last  \\\n",
       "0          2           0           0           0           1           1   \n",
       "1          2           1           0           4           0           2   \n",
       "2          2           0           0           4           0           1   \n",
       "\n",
       "   D_63_last  D_64_last  D_66_last  D_68_last  \n",
       "0          0          3         -1          6  \n",
       "1          3          0         -1          6  \n",
       "2          0          3          1          4  \n",
       "\n",
       "[3 rows x 616 columns]"
      ]
     },
     "execution_count": 5,
     "metadata": {},
     "output_type": "execute_result"
    }
   ],
   "source": [
    "df_test.head(3)"
   ]
  },
  {
   "cell_type": "code",
   "execution_count": 6,
   "id": "fcdd2bd0",
   "metadata": {},
   "outputs": [
    {
     "data": {
      "text/plain": [
       "['B_30_last',\n",
       " 'B_38_last',\n",
       " 'D_114_last',\n",
       " 'D_116_last',\n",
       " 'D_117_last',\n",
       " 'D_120_last',\n",
       " 'D_126_last',\n",
       " 'D_63_last',\n",
       " 'D_64_last',\n",
       " 'D_66_last',\n",
       " 'D_68_last']"
      ]
     },
     "execution_count": 6,
     "metadata": {},
     "output_type": "execute_result"
    }
   ],
   "source": [
    "cat_features = [f\"{f}_last\" for f in ['B_30', 'B_38', 'D_114', 'D_116', 'D_117', 'D_120', 'D_126', 'D_63', 'D_64', 'D_66', 'D_68']]\n",
    "cat_features"
   ]
  },
  {
   "cell_type": "code",
   "execution_count": 7,
   "id": "93a232e0",
   "metadata": {},
   "outputs": [],
   "source": [
    "payment_feats = []\n",
    "delinq_feats = []\n",
    "spend_feats = []\n",
    "balance_feats = []\n",
    "risk_feats = []\n",
    "\n",
    "for feat in list(df_train):\n",
    "    if feat in cat_features:\n",
    "        continue\n",
    "    \n",
    "    if feat[0] == 'P':\n",
    "        #print(feat)\n",
    "        payment_feats.append(feat)\n",
    "    elif feat[0] == 'D':\n",
    "        delinq_feats.append(feat)\n",
    "    elif feat[0] == 'S':\n",
    "        spend_feats.append(feat)\n",
    "    elif feat[0] == 'B':\n",
    "        balance_feats.append(feat)\n",
    "    elif feat[0] == 'R':\n",
    "        risk_feats.append(feat)"
   ]
  },
  {
   "cell_type": "code",
   "execution_count": 8,
   "id": "a2bd2588",
   "metadata": {},
   "outputs": [
    {
     "data": {
      "text/plain": [
       "604"
      ]
     },
     "execution_count": 8,
     "metadata": {},
     "output_type": "execute_result"
    }
   ],
   "source": [
    "len(payment_feats) + len(delinq_feats) + len(spend_feats) + len(balance_feats) + len(risk_feats)"
   ]
  },
  {
   "cell_type": "code",
   "execution_count": 9,
   "id": "90c77e0e",
   "metadata": {},
   "outputs": [
    {
     "data": {
      "text/plain": [
       "604"
      ]
     },
     "execution_count": 9,
     "metadata": {},
     "output_type": "execute_result"
    }
   ],
   "source": [
    "num_features = payment_feats + delinq_feats + spend_feats + balance_feats + risk_feats\n",
    "len(num_features)"
   ]
  },
  {
   "cell_type": "markdown",
   "id": "647f0642",
   "metadata": {},
   "source": [
    "### LR & WoE & binning"
   ]
  },
  {
   "cell_type": "code",
   "execution_count": null,
   "id": "30c37cba",
   "metadata": {},
   "outputs": [],
   "source": []
  },
  {
   "cell_type": "code",
   "execution_count": null,
   "id": "faa788e9",
   "metadata": {},
   "outputs": [],
   "source": []
  },
  {
   "cell_type": "code",
   "execution_count": null,
   "id": "40a0f330",
   "metadata": {},
   "outputs": [],
   "source": []
  },
  {
   "cell_type": "code",
   "execution_count": null,
   "id": "782dc316",
   "metadata": {},
   "outputs": [],
   "source": []
  }
 ],
 "metadata": {
  "kernelspec": {
   "display_name": ".venv",
   "language": "python",
   "name": "python3"
  },
  "language_info": {
   "codemirror_mode": {
    "name": "ipython",
    "version": 3
   },
   "file_extension": ".py",
   "mimetype": "text/x-python",
   "name": "python",
   "nbconvert_exporter": "python",
   "pygments_lexer": "ipython3",
   "version": "3.12.1"
  }
 },
 "nbformat": 4,
 "nbformat_minor": 5
}
